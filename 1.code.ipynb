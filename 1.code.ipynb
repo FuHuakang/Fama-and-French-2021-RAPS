{
 "cells": [
  {
   "cell_type": "code",
   "execution_count": 151,
   "metadata": {},
   "outputs": [],
   "source": [
    "import pandas as pd\n",
    "import numpy as np\n",
    "import datetime as dt\n",
    "import wrds\n",
    "import matplotlib.pyplot as plt\n",
    "from dateutil.relativedelta import *\n",
    "from pandas.tseries.offsets import *\n",
    "from scipy import stats\n",
    "import janitor \n",
    "import warnings\n",
    "warnings.filterwarnings('ignore')\n",
    "\n",
    "import statsmodels.api as sm"
   ]
  },
  {
   "cell_type": "code",
   "execution_count": 3,
   "metadata": {},
   "outputs": [
    {
     "name": "stdout",
     "output_type": "stream",
     "text": [
      "WRDS recommends setting up a .pgpass file.\n",
      "Created .pgpass file successfully.\n",
      "You can create this file yourself at any time with the create_pgpass_file() function.\n",
      "Loading library list...\n",
      "Done\n"
     ]
    }
   ],
   "source": [
    "wrds = wrds.Connection()"
   ]
  },
  {
   "cell_type": "code",
   "execution_count": 4,
   "metadata": {},
   "outputs": [
    {
     "data": {
      "text/plain": [
       "(4575030, 15)"
      ]
     },
     "execution_count": 4,
     "metadata": {},
     "output_type": "execute_result"
    }
   ],
   "source": [
    "crsp_m = wrds.raw_sql(\"\"\"\n",
    "                      select a.permno, a.permco, a.mthcaldt, \n",
    "                      a.issuertype, a.securitytype, a.securitysubtype, a.sharetype, a.usincflg, \n",
    "                      a.primaryexch, a.conditionaltype, a.tradingstatusflg,\n",
    "                      a.mthret, a.mthretx, a.shrout, a.mthprc\n",
    "                      from crsp.msf_v2 as a\n",
    "                      where a.mthcaldt <= '12/31/2019'\n",
    "                      \"\"\", date_cols=['mthcaldt']) \n",
    "crsp_m.shape"
   ]
  },
  {
   "cell_type": "code",
   "execution_count": 5,
   "metadata": {},
   "outputs": [
    {
     "data": {
      "text/plain": [
       "(3643940, 15)"
      ]
     },
     "execution_count": 5,
     "metadata": {},
     "output_type": "execute_result"
    }
   ],
   "source": [
    "crsp_m = crsp_m.loc[(crsp_m.sharetype=='NS') & \\\n",
    "                    (crsp_m.securitytype=='EQTY') & \\\n",
    "                    (crsp_m.securitysubtype=='COM') & \\\n",
    "                    (crsp_m.usincflg=='Y') & \\\n",
    "                    (crsp_m.issuertype.isin(['ACOR', 'CORP']))]\n",
    "crsp_m.shape"
   ]
  },
  {
   "cell_type": "code",
   "execution_count": 6,
   "metadata": {},
   "outputs": [
    {
     "data": {
      "text/plain": [
       "(3583238, 15)"
      ]
     },
     "execution_count": 6,
     "metadata": {},
     "output_type": "execute_result"
    }
   ],
   "source": [
    "crsp_m = crsp_m.loc[(crsp_m.primaryexch.isin(['N', 'A', 'Q'])) & \\\n",
    "                   (crsp_m.conditionaltype =='RW') & \\\n",
    "                   (crsp_m.tradingstatusflg =='A')]\n",
    "crsp_m.shape"
   ]
  },
  {
   "cell_type": "code",
   "execution_count": 7,
   "metadata": {},
   "outputs": [],
   "source": [
    "crsp_m[['permco','permno']]=crsp_m[['permco','permno']].astype(int)\n",
    "crsp_m['jdate']=crsp_m['mthcaldt']+MonthEnd(0)"
   ]
  },
  {
   "cell_type": "code",
   "execution_count": 8,
   "metadata": {},
   "outputs": [],
   "source": [
    "crsp = crsp_m.copy()\n",
    "crsp['mthret']=crsp['mthret'].fillna(0)           # Monthly Total Return (MthRet)\n",
    "crsp['mthretx']=crsp['mthretx'].fillna(0)         # Monthly Return Without Dividends (MthRetx)\n",
    "crsp['me']=crsp['mthprc']*crsp['shrout']          # Monthly Price (MthPrc)\n",
    "crsp=crsp.drop(['mthprc','shrout'], axis=1)       # Shares Outstanding (ShrOut)\n",
    "crsp=crsp.sort_values(by=['jdate','permco','me'])\n",
    "\n",
    "crsp_summe = crsp.groupby(['jdate','permco'])['me'].sum().reset_index()\n",
    "crsp_maxme = crsp.groupby(['jdate','permco'])['me'].max().reset_index()\n",
    "crsp1=pd.merge(crsp, crsp_maxme, how='inner', on=['jdate','permco','me'])\n",
    "crsp1=crsp1.drop(['me'], axis=1)\n",
    "crsp2=pd.merge(crsp1, crsp_summe, how='inner', on=['jdate','permco'])\n",
    "crsp2=crsp2.sort_values(by=['permno','jdate']).drop_duplicates()"
   ]
  },
  {
   "cell_type": "code",
   "execution_count": 9,
   "metadata": {},
   "outputs": [],
   "source": [
    "crsp2['ffdate']=crsp2['jdate']+MonthEnd(-6)\n",
    "crsp2['ffyear']=crsp2['ffdate'].dt.year\n",
    "crsp2['ffmonth']=crsp2['ffdate'].dt.month\n",
    "crsp2['1+retx']=1+crsp2['mthretx']\n",
    "crsp2=crsp2.sort_values(by=['permno','mthcaldt'])"
   ]
  },
  {
   "cell_type": "code",
   "execution_count": 10,
   "metadata": {},
   "outputs": [],
   "source": [
    "\n",
    "crsp2['cumretx']=crsp2.groupby(['permno','ffyear'])['1+retx'].cumprod()\n",
    "crsp2['lcumretx']=crsp2.groupby(['permno'])['cumretx'].shift(1)\n",
    "crsp2['lme']=crsp2.groupby(['permno'])['me'].shift(1)\n",
    "\n",
    "crsp2['count']=crsp2.groupby(['permno']).cumcount()\n",
    "crsp2['lme']=np.where(crsp2['count']==0, crsp2['me']/crsp2['1+retx'], crsp2['lme'])\n",
    "\n",
    "mebase=crsp2[crsp2['ffmonth']==1][['permno','ffyear', 'lme']].rename(columns={'lme':'mebase'})\n",
    "\n",
    "crsp3=pd.merge(crsp2, mebase, how='left', on=['permno','ffyear'])\n",
    "crsp3['wt']=np.where(crsp3['ffmonth']==1, crsp3['lme'], crsp3['mebase']*crsp3['lcumretx'])"
   ]
  },
  {
   "cell_type": "code",
   "execution_count": 13,
   "metadata": {},
   "outputs": [],
   "source": [
    "comp = wrds.raw_sql(\"\"\"\n",
    "                    select gvkey, datadate, at, pstkl, txditc,\n",
    "                    pstkrv, seq, pstk \n",
    "                    from comp.funda\n",
    "                    where indfmt='INDL' \n",
    "                    and datafmt='STD'\n",
    "                    and popsrc='D'\n",
    "                    and consol='C'\n",
    "                    \"\"\", date_cols=['datadate'])\n",
    "comp['year']=comp['datadate'].dt.year"
   ]
  },
  {
   "cell_type": "code",
   "execution_count": 14,
   "metadata": {},
   "outputs": [],
   "source": [
    "comp['ps']=np.where(comp['pstkrv'].isnull(), comp['pstkl'], comp['pstkrv'])\n",
    "comp['ps']=np.where(comp['ps'].isnull(),comp['pstk'], comp['ps'])\n",
    "comp['ps']=np.where(comp['ps'].isnull(),0,comp['ps'])\n",
    "comp['txditc']=comp['txditc'].fillna(0)\n",
    "\n",
    "comp['be']=comp['seq']+comp['txditc']-comp['ps']\n",
    "comp['be']=np.where(comp['be']>0, comp['be'], np.nan)\n",
    "\n",
    "comp=comp.sort_values(by=['gvkey','datadate'])\n",
    "comp['count']=comp.groupby(['gvkey']).cumcount()\n",
    "\n",
    "comp=comp[['gvkey','datadate','year','be','count']]"
   ]
  },
  {
   "cell_type": "code",
   "execution_count": 15,
   "metadata": {},
   "outputs": [],
   "source": [
    "ccm=wrds.raw_sql(\"\"\"\n",
    "                  select gvkey, lpermno as permno, linktype, linkprim, \n",
    "                  linkdt, linkenddt\n",
    "                  from crsp.ccmxpf_linktable\n",
    "                  where substr(linktype,1,1)='L'\n",
    "                  and (linkprim ='C' or linkprim='P')\n",
    "                  \"\"\", date_cols=['linkdt', 'linkenddt'])\n",
    "ccm['linkenddt']=ccm['linkenddt'].fillna(pd.to_datetime('today'))"
   ]
  },
  {
   "cell_type": "code",
   "execution_count": 16,
   "metadata": {},
   "outputs": [],
   "source": [
    "ccm1=pd.merge(comp[['gvkey','datadate','be']],ccm,how='left',on=['gvkey'])\n",
    "ccm1['yearend']=ccm1['datadate']+YearEnd(0)\n",
    "ccm1['jdate']=ccm1['yearend']+MonthEnd(6)"
   ]
  },
  {
   "cell_type": "code",
   "execution_count": 17,
   "metadata": {},
   "outputs": [],
   "source": [
    "ccm2=ccm1[(ccm1['jdate']>=ccm1['linkdt'])&(ccm1['jdate']<=ccm1['linkenddt'])]\n",
    "ccm2=ccm2[['permno','jdate','be']]\n",
    "\n",
    "be = ccm2.copy()\n",
    "be['jdate_end'] = be['jdate'] + MonthEnd(12)\n",
    "be = be[['permno','jdate','be','jdate_end']]"
   ]
  },
  {
   "cell_type": "code",
   "execution_count": 18,
   "metadata": {},
   "outputs": [],
   "source": [
    "crsp99 = crsp3.conditional_join(\n",
    "    be,\n",
    "    ('permno', 'permno', '=='),\n",
    "    ('jdate', 'jdate', '>='),\n",
    "    ('jdate', 'jdate_end', '<'),\n",
    "    how = 'left'\n",
    "    )\n",
    "\n",
    "crsp99.drop(columns = {('right','permno'),('right','jdate')}, inplace = True)\n",
    "crsp99.columns = crsp99.columns.droplevel(0)"
   ]
  },
  {
   "cell_type": "code",
   "execution_count": 19,
   "metadata": {},
   "outputs": [],
   "source": [
    "crsp99 = crsp99[['permno','jdate','me','mthret','mthretx','be','primaryexch','wt']]\n",
    "crsp99['beme'] = np.where(crsp99['me'] > 0, crsp99['be'] * 1000 / crsp99['me'], np.nan)\n",
    "crsp99.sort_values(by=['jdate','permno'],inplace=True)"
   ]
  },
  {
   "cell_type": "code",
   "execution_count": 20,
   "metadata": {},
   "outputs": [],
   "source": [
    "nyse= crsp99[(crsp99['primaryexch']=='N') & (crsp99['beme']>0) & (crsp99['me']>0)]"
   ]
  },
  {
   "cell_type": "code",
   "execution_count": 21,
   "metadata": {},
   "outputs": [],
   "source": [
    "nyse_sz=nyse.groupby(['jdate'])['me'].median().to_frame().reset_index().rename(columns={'me':'sizemedn'})\n",
    "nyse_bm=nyse.groupby(['jdate'])['beme'].describe(percentiles=[0.3, 0.7]).reset_index()\n",
    "nyse_bm=nyse_bm[['jdate','30%','70%']].rename(columns={'30%':'bm30', '70%':'bm70'})"
   ]
  },
  {
   "cell_type": "code",
   "execution_count": 22,
   "metadata": {},
   "outputs": [],
   "source": [
    "nyse_breaks = pd.merge(nyse_sz, nyse_bm, how='inner', on=['jdate'])\n",
    "crsp00 = pd.merge(crsp99, nyse_breaks, how='left', on=['jdate'])"
   ]
  },
  {
   "cell_type": "code",
   "execution_count": 23,
   "metadata": {},
   "outputs": [],
   "source": [
    "def sz_bucket(row):\n",
    "    if row['me']==np.nan:\n",
    "        value=''\n",
    "    elif row['me']<=row['sizemedn']:\n",
    "        value='S'\n",
    "    else:\n",
    "        value='B'\n",
    "    return value\n",
    "\n",
    "def bm_bucket(row):\n",
    "    if 0<=row['beme']<=row['bm30']:\n",
    "        value = 'G'\n",
    "    elif row['beme']<=row['bm70']:\n",
    "        value='M'\n",
    "    elif row['beme']>row['bm70']:\n",
    "        value= 'V'\n",
    "    else:\n",
    "        value=''\n",
    "    return value"
   ]
  },
  {
   "cell_type": "code",
   "execution_count": 326,
   "metadata": {},
   "outputs": [],
   "source": [
    "### assign size portfolio\n",
    "crsp00['szport']=np.where((crsp00['beme']>0)&(crsp00['me']>0), crsp00.apply(sz_bucket, axis=1), '')\n",
    "### assign book-to-market portfolio\n",
    "crsp00['bmport']=np.where((crsp00['beme']>0)&(crsp00['me']>0), crsp00.apply(bm_bucket, axis=1), '')"
   ]
  },
  {
   "cell_type": "code",
   "execution_count": 337,
   "metadata": {},
   "outputs": [],
   "source": [
    "### create positivebmeme and nonmissport variable\n",
    "crsp00['posbm']=np.where((crsp00['beme']>0)&(crsp00['me']>0), 1, 0)\n",
    "crsp00['nonmissport']=np.where((crsp00['bmport']!=''), 1, 0)\n",
    "\n",
    "crsp00.sort_values(['permno','jdate'],inplace=True)\n",
    "crsp11=crsp00[(crsp00['wt']>0)& (crsp00['posbm']==1) & (crsp00['nonmissport']==1)]"
   ]
  },
  {
   "cell_type": "code",
   "execution_count": 348,
   "metadata": {},
   "outputs": [],
   "source": [
    "crsp11['SV'] = np.where((crsp11['szport'] == 'S') & (crsp11['bmport'] == 'V'), 1, 0)\n",
    "crsp11['BV'] = np.where((crsp11['szport'] == 'B') & (crsp11['bmport'] == 'V'), 1, 0)\n",
    "crsp11['SG'] = np.where((crsp11['szport'] == 'S') & (crsp11['bmport'] == 'G'), 1, 0)\n",
    "crsp11['BG'] = np.where((crsp11['szport'] == 'B') & (crsp11['bmport'] == 'G'), 1, 0)\n",
    "\n",
    "crsp11['MV'] = crsp11['SV'] + crsp11['BV']\n",
    "crsp11['MG'] = crsp11['SG'] + crsp11['BG']\n",
    "crsp11.reset_index(drop=True,inplace=True)"
   ]
  },
  {
   "cell_type": "code",
   "execution_count": 358,
   "metadata": {},
   "outputs": [],
   "source": [
    "crsp22 = crsp11[['jdate','permno','mthret','beme','SV','BV'\t,'SG','BG','MV','MG','me']]\n",
    "crsp22['mthret'] = crsp22['mthret'] * 100"
   ]
  },
  {
   "cell_type": "code",
   "execution_count": 359,
   "metadata": {},
   "outputs": [],
   "source": [
    "crsp22.sort_values(['permno','jdate'], inplace=True)\n",
    "crsp22['ret_ahead'] = crsp22.groupby(['permno'])['mthret'].shift(-1)\n",
    "crsp33 = crsp22[(crsp22['jdate']>='1963-07-31') & (crsp22['jdate']<='2019-06-30')]"
   ]
  },
  {
   "cell_type": "code",
   "execution_count": 360,
   "metadata": {},
   "outputs": [],
   "source": [
    "crsp33.to_pickle('data99.pkl')"
   ]
  },
  {
   "cell_type": "code",
   "execution_count": null,
   "metadata": {},
   "outputs": [],
   "source": []
  },
  {
   "cell_type": "code",
   "execution_count": 325,
   "metadata": {},
   "outputs": [],
   "source": [
    "return_whole.to_pickle('return_whole.pkl')"
   ]
  },
  {
   "cell_type": "code",
   "execution_count": 317,
   "metadata": {},
   "outputs": [
    {
     "name": "stdout",
     "output_type": "stream",
     "text": [
      "              MV    BV    SV    MG    BG    SG\n",
      "Cor(R, RM)  0.85  0.83  0.81  0.97  0.97  0.86\n",
      "MV          1.00  0.97  0.74 -0.73 -0.73 -0.04\n",
      "BV          0.97  1.00  0.58 -0.72 -0.69 -0.21\n",
      "SV          0.74  0.58  1.00 -0.49 -0.59  0.45\n",
      "MG         -0.73 -0.72 -0.49  1.00  0.97  0.22\n",
      "BG         -0.73 -0.69 -0.59  0.97  1.00  0.02\n",
      "SG         -0.04 -0.21  0.45  0.22  0.02  1.00\n"
     ]
    }
   ],
   "source": [
    "table1_panelC = corr_matrix\n",
    "print(table1_panelC)"
   ]
  }
 ],
 "metadata": {
  "kernelspec": {
   "display_name": "AP",
   "language": "python",
   "name": "python3"
  },
  "language_info": {
   "codemirror_mode": {
    "name": "ipython",
    "version": 3
   },
   "file_extension": ".py",
   "mimetype": "text/x-python",
   "name": "python",
   "nbconvert_exporter": "python",
   "pygments_lexer": "ipython3",
   "version": "3.8.18"
  }
 },
 "nbformat": 4,
 "nbformat_minor": 2
}
